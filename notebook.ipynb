{
 "cells": [
  {
   "cell_type": "markdown",
   "id": "b0efe59f",
   "metadata": {},
   "source": [
    "The categories in the dataset are 'toxic', 'severe_toxic', 'obscene', 'threat','insult'. \n",
    "<br></br>\n",
    "We are going to implement and evaluate the relative performance of two models; one from a Kaggle compeition and one from literature. \n",
    "\n",
    "1. The Kaggle Model: The architecture of this model involves an embedding layer to create text embedding inputs, a dropout layer to prevent overfitting, a bidirectional LSTM layer. \n",
    "https://www.kaggle.com/code/fizzbuzz/bi-lstm-conv-layer-lb-score-0-9840/script\n",
    "2. The Literature Model: https://research.ebsco.com/c/xppotz/results?q=Attention-based%20Neural%20Text%20Segmentation&autocorrect=y&limiters=FT1%3AY\n",
    "\n",
    "<br></br>\n"
   ]
  },
  {
   "cell_type": "markdown",
   "id": "a3506f37",
   "metadata": {},
   "source": [
    "<h1>Importing Libraries and data</h1>"
   ]
  },
  {
   "cell_type": "code",
   "execution_count": 1,
   "id": "fbbf8104",
   "metadata": {},
   "outputs": [],
   "source": [
    "# import libraries\n",
    "\n",
    "import torch \n",
    "import numpy as np\n",
    "import pandas as pd\n",
    "import torch.nn as nn\n"
   ]
  },
  {
   "cell_type": "code",
   "execution_count": 2,
   "id": "567b2d98",
   "metadata": {},
   "outputs": [],
   "source": [
    "# import data\n",
    "X_train = pd.read_csv('train_preprocessed.csv')\n",
    "X_test = pd.read_csv('test_preprocessed.csv')\n"
   ]
  },
  {
   "cell_type": "markdown",
   "id": "68abd758",
   "metadata": {},
   "source": [
    "<h1>Model 1: BiLSTM-CNN</h1>"
   ]
  },
  {
   "cell_type": "code",
   "execution_count": null,
   "id": "81646576",
   "metadata": {},
   "outputs": [],
   "source": []
  }
 ],
 "metadata": {
  "kernelspec": {
   "display_name": "Python 3 (ipykernel)",
   "language": "python",
   "name": "python3"
  },
  "language_info": {
   "codemirror_mode": {
    "name": "ipython",
    "version": 3
   },
   "file_extension": ".py",
   "mimetype": "text/x-python",
   "name": "python",
   "nbconvert_exporter": "python",
   "pygments_lexer": "ipython3",
   "version": "3.11.3"
  }
 },
 "nbformat": 4,
 "nbformat_minor": 5
}
